{
 "cells": [
  {
   "cell_type": "markdown",
   "metadata": {},
   "source": [
    "# **File and Folder Manipulation**\n",
    "\n",
    "\n",
    "### **renaming**"
   ]
  },
  {
   "cell_type": "code",
   "execution_count": null,
   "metadata": {},
   "outputs": [],
   "source": [
    "# Renaming file substring\n",
    "def rename_file_substring(folder_path, original_substring, new_substring):\n",
    "    for file_name in os.listdir(folder_path):\n",
    "        original_file_path = os.path.join(folder_path, file_name)\n",
    "        \n",
    "        # Check if the original fraction is present in the file name\n",
    "        if original_substring in file_name:\n",
    "            #replace the original fraction with new fraction in file_names\n",
    "            new_file_name = file_name.replace(original_substring, new_substring)\n",
    "            new_file_path = os.path.join(folder_path, new_file_name)\n",
    "            \n",
    "            # Rename file\n",
    "            os.rename(original_file_path, new_file_path)\n"
   ]
  }
 ],
 "metadata": {
  "kernelspec": {
   "display_name": "venv1",
   "language": "python",
   "name": "python3"
  },
  "language_info": {
   "name": "python",
   "version": "3.11.6"
  }
 },
 "nbformat": 4,
 "nbformat_minor": 2
}
